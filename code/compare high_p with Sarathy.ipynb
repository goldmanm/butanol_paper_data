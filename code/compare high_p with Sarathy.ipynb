{
 "cells": [
  {
   "cell_type": "markdown",
   "metadata": {},
   "source": [
    "This notebook compares the high pressure limit rate coefficients in this work with those in Sarathy et al. (citation in paper). "
   ]
  },
  {
   "cell_type": "code",
   "execution_count": null,
   "metadata": {},
   "outputs": [],
   "source": [
    "import numpy as np\n",
    "import pandas as pd\n",
    "import os\n",
    "import cantera as ct\n",
    "\n",
    "import seaborn as sns\n",
    "import matplotlib.pyplot as plt\n",
    "%matplotlib inline\n",
    "sns.set_context('notebook')"
   ]
  },
  {
   "cell_type": "code",
   "execution_count": null,
   "metadata": {},
   "outputs": [],
   "source": [
    "mit_red = (163/255,31/255,52/255)\n",
    "mit_grey = (138/255,139/255,140/255)\n",
    "mit_light_grey = (194/255,192/255,191/255)"
   ]
  },
  {
   "cell_type": "markdown",
   "metadata": {},
   "source": [
    "# Sarathy Comparison"
   ]
  },
  {
   "cell_type": "code",
   "execution_count": null,
   "metadata": {},
   "outputs": [],
   "source": [
    "my_solution = ct.Solution('../data/mech_generation/high_p_merged/chem.cti')\n",
    "sarathy_solution = ct.Solution('../data/lit_mechanisms/sarathy.cti')"
   ]
  },
  {
   "cell_type": "code",
   "execution_count": null,
   "metadata": {},
   "outputs": [],
   "source": [
    "species_conversion_df = pd.read_csv('../data/species_name_comparison.csv')\n",
    "cantera2sarathy = pd.Series(index=species_conversion_df['chemkin_name'],data=species_conversion_df['sarathy'].values)"
   ]
  },
  {
   "cell_type": "code",
   "execution_count": null,
   "metadata": {},
   "outputs": [],
   "source": [
    "reaction = my_solution.reactions()[0]\n",
    "sarathy_r_names = set([cantera2sarathy[name] for name in reaction.reactants.keys()])\n",
    "s_reactants = set(sarathy_solution.reactions()[2122].reactants.keys())"
   ]
  },
  {
   "cell_type": "code",
   "execution_count": null,
   "metadata": {},
   "outputs": [],
   "source": [
    "my_reactions = my_solution.reactions()\n",
    "sarathy_reactions = sarathy_solution.reactions()"
   ]
  },
  {
   "cell_type": "code",
   "execution_count": null,
   "metadata": {},
   "outputs": [],
   "source": [
    "# get dictionary linking my reactions with sarathy reactions\n",
    "my_index2sarathy = {}\n",
    "for my_index, reaction in enumerate(my_reactions):\n",
    "    sarathy_r_names = set([cantera2sarathy[name] for name in reaction.reactants.keys()])\n",
    "    sarathy_p_names = set([cantera2sarathy[name] for name in reaction.products.keys()])\n",
    "    for sarathy_index, s_reaction in enumerate(sarathy_reactions):\n",
    "        s_reactants = set(s_reaction.reactants.keys())\n",
    "        s_products  = set(s_reaction.products.keys())\n",
    "        #print(str(my_index) +'\\t' + str(sarathy_index)+'\\t'+str(s_reactants) + '\\t\\t\\t\\t' + str(sarathy_r_names))\n",
    "        if s_reactants == sarathy_r_names or s_reactants == sarathy_p_names:\n",
    "            if s_reactants == sarathy_r_names:\n",
    "                forward = True\n",
    "            elif s_reactants == sarathy_p_names:\n",
    "                forward = False\n",
    "            else:\n",
    "                raise Exception('Something went wrong in reaction index {0} sarathy index {1}'.format(my_index,sarathy_index))\n",
    "            if forward and s_products == sarathy_p_names:\n",
    "                my_index2sarathy[my_index] = sarathy_index\n",
    "                break\n",
    "            elif (not forward) and s_products == sarathy_r_names:\n",
    "                my_index2sarathy[my_index] = -sarathy_index\n",
    "                break\n"
   ]
  },
  {
   "cell_type": "code",
   "execution_count": null,
   "metadata": {},
   "outputs": [],
   "source": [
    "# add waddington reaction:\n",
    "my_reactions[26]"
   ]
  },
  {
   "cell_type": "code",
   "execution_count": null,
   "metadata": {},
   "outputs": [],
   "source": [
    "sarathy_reactions[2091]"
   ]
  },
  {
   "cell_type": "code",
   "execution_count": null,
   "metadata": {},
   "outputs": [],
   "source": [
    "my_index2sarathy[26] = 2091"
   ]
  },
  {
   "cell_type": "code",
   "execution_count": null,
   "metadata": {},
   "outputs": [],
   "source": [
    "# spaced temperatures by inverse spacing between two set values below\n",
    "t_range = 1/np.linspace(1./500,1./1000)"
   ]
  },
  {
   "cell_type": "code",
   "execution_count": null,
   "metadata": {},
   "outputs": [],
   "source": [
    "# get data for all conditions (so we don't have to recalculate it each time)\n",
    "my_rates = pd.DataFrame(index = range(len(my_reactions)), columns=t_range)\n",
    "sarathy_rates = pd.DataFrame(index= range(len(sarathy_reactions)), columns=t_range)\n",
    "sarathy_rates_reverse = pd.DataFrame(index= range(len(sarathy_reactions)), columns=t_range)\n",
    "for t in t_range:\n",
    "    my_solution.TP = t, 1e5\n",
    "    sarathy_solution.TP = t, 1e5\n",
    "    my_rates[t] = my_solution.forward_rate_constants\n",
    "    sarathy_rates[t] = sarathy_solution.forward_rate_constants\n",
    "    sarathy_rates_reverse[t] = sarathy_solution.reverse_rate_constants"
   ]
  },
  {
   "cell_type": "code",
   "execution_count": null,
   "metadata": {},
   "outputs": [],
   "source": [
    "rate_comparison = pd.Series()\n",
    "for my_i, sarathy_i in my_index2sarathy.items():\n",
    "    if sarathy_i < 0:\n",
    "        sarathy_i *= -1\n",
    "        sarathy_data = sarathy_rates_reverse.loc[sarathy_i,:]\n",
    "    else:\n",
    "        sarathy_data = sarathy_rates.loc[sarathy_i,:]\n",
    "    my_data = my_rates.loc[my_i,:]\n",
    "    rate_comparison[str(my_reactions[my_i])] = (my_data/sarathy_data).mean()"
   ]
  },
  {
   "cell_type": "code",
   "execution_count": null,
   "metadata": {},
   "outputs": [],
   "source": [
    "decomp_comparison = pd.Series()\n",
    "QOOH_decomp_comparison = pd.Series()\n",
    "QOOH_decomp_minus_HO2 = pd.Series()\n",
    "epoxy_comp = pd.Series()\n",
    "c4_comp = pd.Series()\n",
    "# remove the O2 rates & make new series with only decomposition rates\n",
    "for label in rate_comparison.index:\n",
    "    if str.startswith(label,'O2 '):\n",
    "        del rate_comparison[label]\n",
    "    elif '+' in label or label == 'bRO2 <=> bQOOHa':\n",
    "        # set rxn as decomposition if it has a + or is waddington rxn (special case in sarathy mech)\n",
    "        decomp_comparison[label] = rate_comparison[label]\n",
    "        if 'RO2' not in label:\n",
    "            QOOH_decomp_comparison[label] = rate_comparison[label]\n",
    "            if 'HO2' not in label:\n",
    "                QOOH_decomp_minus_HO2[label] = rate_comparison[label]\n",
    "                if 'epoxy' in label:\n",
    "                    epoxy_comp[label] = rate_comparison[label]\n",
    "                elif 'c4ether' in label:\n",
    "                    c4_comp[label] = rate_comparison[label]"
   ]
  },
  {
   "cell_type": "code",
   "execution_count": null,
   "metadata": {},
   "outputs": [],
   "source": [
    "f, ax = plt.subplots(figsize=(8, 4))\n",
    "\n",
    "plt.hist(np.log10(rate_comparison.values),bins=[-3,-2,-1,0,1,2,3,4,5,6,7],color=mit_red)\n",
    "plt.hist(np.log10(decomp_comparison.values),bins=[-3,-2,-1,0,1,2,3,4,5,6,7],color=mit_grey)\n",
    "plt.hist(np.log10(QOOH_decomp_comparison.values),bins=[-3,-2,-1,0,1,2,3,4,5,6,7],color=mit_light_grey, hatch='/')\n",
    "plt.hist(np.log10(QOOH_decomp_minus_HO2.values),bins=[-3,-2,-1,0,1,2,3,4,5,6,7],color=mit_light_grey, hatch='*')\n",
    "plt.hist(np.log10(epoxy_comp.values),bins=[-3,-2,-1,0,1,2,3,4,5,6,7],color=mit_light_grey, hatch='+')\n",
    "plt.hist(np.log10(c4_comp.values),bins=[-3,-2,-1,0,1,2,3,4,5,6,7],color=mit_light_grey, hatch='o')\n",
    "\n",
    "sns.despine()\n",
    "ax.set_xlabel('ratio of reaction rates in this work to those in a combustion mechanism')\n",
    "ax.set_ylabel(\"number of reactions\")\n",
    "ax.set_xticks([-2,0,2,4,6])\n",
    "ax.set_xticklabels(['$10^{'+ str(i) +'}$' for i in ax.get_xticks()])\n",
    "\n",
    "ax.annotate('C$_4$ Cyclic Ether\\nFormation',(-.8,.85), (-3.35,2), arrowprops = {'arrowstyle': '-'})\n",
    "ax.annotate('Epoxy Formation',(6.5,1.7), (4.9,3.1), arrowprops = {'arrowstyle': '-'})\n",
    "ax.annotate('HO$_2$ from RO$_2$',(.2,3), (-3.1,4.5), arrowprops = {'arrowstyle': '-'})\n",
    "ax.annotate('Isomerization',(.2,5.5), (-2.85,5.9), arrowprops = {'arrowstyle': '-'})\n",
    "ax.annotate('HO$_2$ from QOOH',(1.8,4), (3,6), arrowprops = {'arrowstyle': '-'})\n",
    "ax.annotate(u'QOOH β-scission',(1.8,2.4), (2.9,4), arrowprops = {'arrowstyle': '-'})\n"
   ]
  },
  {
   "cell_type": "code",
   "execution_count": null,
   "metadata": {},
   "outputs": [],
   "source": [
    "# matplotlib bug: To save properly as pdf with hatches, save as svg, open inkscape, and save to pdf\n",
    "f.savefig(os.path.join('../results/','sarathy_rate_comparison.svg'),bbox_inches='tight')"
   ]
  },
  {
   "cell_type": "code",
   "execution_count": null,
   "metadata": {},
   "outputs": [],
   "source": [
    "f.savefig(os.path.join('../results/','sarathy_rate_comparison.jpg'),dpi=450,bbox_inches='tight')"
   ]
  }
 ],
 "metadata": {
  "kernelspec": {
   "display_name": "Python 3",
   "language": "python",
   "name": "python3"
  },
  "language_info": {
   "codemirror_mode": {
    "name": "ipython",
    "version": 3
   },
   "file_extension": ".py",
   "mimetype": "text/x-python",
   "name": "python",
   "nbconvert_exporter": "python",
   "pygments_lexer": "ipython3",
   "version": "3.6.8"
  },
  "toc": {
   "nav_menu": {
    "height": "4px",
    "width": "255px"
   },
   "navigate_menu": true,
   "number_sections": true,
   "sideBar": true,
   "threshold": 4,
   "toc_cell": true,
   "toc_section_display": "block",
   "toc_window_display": true
  }
 },
 "nbformat": 4,
 "nbformat_minor": 4
}
