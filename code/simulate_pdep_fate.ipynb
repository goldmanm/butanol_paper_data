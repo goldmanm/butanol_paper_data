{
 "cells": [
  {
   "cell_type": "code",
   "execution_count": null,
   "metadata": {},
   "outputs": [],
   "source": [
    "import cantera as ct\n",
    "import pandas as pd\n",
    "import numpy as np\n",
    "import seaborn as sns\n",
    "from matplotlib import pyplot as plt\n",
    "from matplotlib.colors import ListedColormap\n",
    "from matplotlib import cm\n",
    "import matplotlib\n",
    "import os\n",
    "%matplotlib inline\n",
    "from scipy.ndimage import gaussian_filter"
   ]
  },
  {
   "cell_type": "code",
   "execution_count": null,
   "metadata": {},
   "outputs": [],
   "source": [
    "def add_lines_to_contourf(contour_obj):\n",
    "    for col in  contour_obj.collections:\n",
    "        col.set_linewidth(1.5)\n",
    "        col.set_edgecolor(col.get_facecolor())"
   ]
  },
  {
   "cell_type": "code",
   "execution_count": null,
   "metadata": {},
   "outputs": [],
   "source": [
    "def get_reaction_branching(solution, initial_reactants):\n",
    "    \"\"\"given a solution object at a specified temperature\n",
    "    and pressure, finds the reaction rates of reactions\n",
    "    corresponding to the initial_reactants, in both forward\n",
    "    and reverse directions.\n",
    "    \n",
    "    returns a pandas.Series with the reaction index as its\n",
    "    index and the reaction rate constant as its product.\n",
    "    \n",
    "    All reactants must be specified for a match to be found.\"\"\"\n",
    "    reactions = solution.reactions()\n",
    "    reaction_rates = {}\n",
    "    for index in range(len(reactions)):\n",
    "        rxn = reactions[index]\n",
    "        reactants = set(rxn.reactants.keys())\n",
    "        products = set(rxn.products.keys())\n",
    "        if reactants == initial_reactants:\n",
    "            #print(rxn)\n",
    "            reaction_rates[index] = solution.forward_rate_constants[index]\n",
    "        elif products == initial_reactants:\n",
    "            #print(rxn)\n",
    "            reaction_rates[index] = solution.reverse_rate_constants[index]\n",
    "        else:\n",
    "            continue\n",
    "    if len(reaction_rates) == 0:\n",
    "        raise Exception('No reaction branching found for {0}'.format(initial_reactants))\n",
    "    return pd.Series(reaction_rates)"
   ]
  },
  {
   "cell_type": "code",
   "execution_count": null,
   "metadata": {},
   "outputs": [],
   "source": [
    "def get_reaction_branching_with_second_O2_addition(solution, initial_reactants):\n",
    "    O2_concentration = solution.density_mole * .2\n",
    "    branching = get_reaction_branching(solution, initial_reactants)\n",
    "    reactants_with_O2 = initial_reactants.copy()\n",
    "    reactants_with_O2.add('O2')\n",
    "    with_O2_branching = get_reaction_branching(solution, reactants_with_O2) * O2_concentration\n",
    "    return branching.append(with_O2_branching, verify_integrity=True)"
   ]
  },
  {
   "cell_type": "code",
   "execution_count": null,
   "metadata": {},
   "outputs": [],
   "source": [
    "def get_peroxy_lifetime(solution, peroxy_name):\n",
    "    \"\"\"\n",
    "    given the peroxy name, return the average lifetime of the peroxy\n",
    "    which is given as the inverse of the sum of all unimolecular\n",
    "    reactions in the network. \n",
    "    \"\"\"\n",
    "    return "
   ]
  },
  {
   "cell_type": "code",
   "execution_count": null,
   "metadata": {},
   "outputs": [],
   "source": [
    "image_dir = '../results'"
   ]
  },
  {
   "cell_type": "code",
   "execution_count": null,
   "metadata": {},
   "outputs": [],
   "source": [
    "mechanism_file = '../data/mech_generation/pdep_merged/chem.cti'"
   ]
  },
  {
   "cell_type": "code",
   "execution_count": null,
   "metadata": {},
   "outputs": [],
   "source": [
    "solution = ct.Solution(mechanism_file)\n",
    "reactions = solution.reactions()"
   ]
  },
  {
   "cell_type": "code",
   "execution_count": null,
   "metadata": {},
   "outputs": [],
   "source": [
    "n_xticks = 5\n",
    "n_yticks = 5"
   ]
  },
  {
   "cell_type": "code",
   "execution_count": null,
   "metadata": {},
   "outputs": [],
   "source": [
    "value_gradient = np.linspace(0,1,\n",
    "                              256)"
   ]
  },
  {
   "cell_type": "code",
   "execution_count": null,
   "metadata": {},
   "outputs": [],
   "source": [
    "color_list = np.zeros((256,4))\n",
    "color_list[:,0] = value_gradient/2+.5\n",
    "color_list[:,1] = value_gradient/2+.5\n",
    "color_list[:,2] = value_gradient/2+.5\n",
    "transparency_color_map = ListedColormap(color_list)"
   ]
  },
  {
   "cell_type": "code",
   "execution_count": null,
   "metadata": {},
   "outputs": [],
   "source": [
    "black_color_map = ListedColormap(((0,0,0,1)))\n",
    "white_color_map = ListedColormap(((1,1,1,1)))"
   ]
  },
  {
   "cell_type": "code",
   "execution_count": null,
   "metadata": {},
   "outputs": [],
   "source": [
    "temperatures = np.linspace(180,1500,80)\n",
    "pressures = np.logspace(3,7,80)"
   ]
  },
  {
   "cell_type": "markdown",
   "metadata": {},
   "source": [
    "# fit multiple plots"
   ]
  },
  {
   "cell_type": "code",
   "execution_count": null,
   "metadata": {},
   "outputs": [],
   "source": [
    "value_gradient = [0,.4,.75,.9,1]"
   ]
  },
  {
   "cell_type": "code",
   "execution_count": null,
   "metadata": {},
   "outputs": [],
   "source": [
    "data_storage = {}\n",
    "for s_index, surface in enumerate(['alpha', 'beta', 'gamma']):\n",
    "    data_storage[surface] = {}\n",
    "    for p_index, initial_pathway in enumerate(['alkyl','peroxy',]):\n",
    "    #for p_index, initial_pathway in enumerate(['alkyl','peroxy','QOOH']):\n",
    "        if surface == 'alpha':\n",
    "            if initial_pathway == 'peroxy':\n",
    "                initial_reactants = set(('aRO2',))\n",
    "            elif initial_pathway == 'alkyl':\n",
    "                initial_reactants = set(('O2','aR'))\n",
    "            elif initial_pathway == 'QOOH':\n",
    "                initial_reactants = set(('aQOOHg',))\n",
    "        elif surface == 'beta':\n",
    "            if initial_pathway == 'peroxy':\n",
    "                initial_reactants = set(('bRO2',))\n",
    "            elif initial_pathway == 'alkyl':\n",
    "                initial_reactants = set(('O2','bR'))\n",
    "            elif initial_pathway == 'QOOH':\n",
    "                initial_reactants = set(('bQOOHa',))\n",
    "        elif surface == 'gamma':\n",
    "            if initial_pathway == 'peroxy':\n",
    "                initial_reactants = set(('gRO2',))\n",
    "            elif initial_pathway == 'alkyl':\n",
    "                initial_reactants = set(('O2', 'gR'))\n",
    "            elif initial_pathway == 'QOOH':\n",
    "                initial_reactants = set(('gQOOHa',))\n",
    "        main_path_matrix = pd.DataFrame(index=pressures,\n",
    "                                 columns=temperatures,\n",
    "                                 data=np.empty((len(temperatures),len(pressures))))\n",
    "        fraction_main_path_matrix = pd.DataFrame(index=pressures,\n",
    "                                 columns=temperatures,\n",
    "                                 data=np.empty((len(temperatures),len(pressures))))\n",
    "\n",
    "        for temperature in temperatures:\n",
    "            for pressure in pressures:\n",
    "                solution.TP = temperature, pressure\n",
    "                if initial_pathway == 'QOOH':\n",
    "                    paths = get_reaction_branching_with_second_O2_addition(solution,initial_reactants)\n",
    "                else:\n",
    "                    paths = get_reaction_branching(solution,initial_reactants)\n",
    "                main_path = paths[paths == paths.max()].index[0]\n",
    "                main_path_matrix.loc[pressure,temperature] = main_path\n",
    "                fraction_main_path_matrix.loc[pressure,temperature] = paths[main_path] / paths.sum()\n",
    "\n",
    "        data_one_plot = {}\n",
    "        data_one_plot['main_path_matrix'] = main_path_matrix\n",
    "        data_one_plot['fraction_main_path_matrix'] = fraction_main_path_matrix\n",
    "        data_storage[surface][initial_pathway] = data_one_plot"
   ]
  },
  {
   "cell_type": "code",
   "execution_count": null,
   "metadata": {},
   "outputs": [],
   "source": [
    "f, axes = plt.subplots(2,3,sharex=True,sharey=True,figsize = [12/.95,8],gridspec_kw={'wspace':.12,'hspace':0.2})"
   ]
  },
  {
   "cell_type": "code",
   "execution_count": null,
   "metadata": {},
   "outputs": [],
   "source": [
    "print('Output below are the major pathways which contribute to the produced plots.\\nThis allows you to add descriptive details in an SVG editor.')\n",
    "for s_index, surface in enumerate(['alpha', 'beta', 'gamma']):\n",
    "    for p_index, initial_pathway in enumerate(['alkyl','peroxy']):\n",
    "        data_one_plot = data_storage[surface][initial_pathway]\n",
    "        main_path_matrix = data_one_plot['main_path_matrix'] \n",
    "        fraction_main_path_matrix = data_one_plot['fraction_main_path_matrix']\n",
    "\n",
    "        ax = axes[p_index][s_index]\n",
    "        ax.set_xticks(np.linspace(0,len(temperatures)-1,n_xticks))\n",
    "        ax.set_yticks(np.linspace(0,len(pressures)-1,n_yticks))\n",
    "        ax.set_xticklabels([int(label) for label in np.linspace(temperatures.min(),temperatures.max(),n_xticks)])\n",
    "        ax.set_yticklabels(['10$^{{{0}}}$'.format(int(np.log10(label))) for label in np.logspace(np.log10(pressures.min()),np.log10(pressures.max()),n_yticks)])\n",
    "        if p_index == 1:\n",
    "        #if p_index == 2:\n",
    "            ax.set_xlabel('temperature (K)')\n",
    "        if s_index == 0:\n",
    "            ax.set_ylabel('pressure (Pa)')\n",
    "        contour_output = ax.contourf(fraction_main_path_matrix,cmap=transparency_color_map,antialiased=True,levels=value_gradient, alpha=1)\n",
    "        for rxn_index in np.unique(main_path_matrix):\n",
    "            zero_one_matrix = np.zeros(main_path_matrix.shape)\n",
    "            zero_one_matrix[main_path_matrix == rxn_index] = 1\n",
    "            smooth_matrix = gaussian_filter(zero_one_matrix, 2)\n",
    "            ax.contour(smooth_matrix,cmap=black_color_map,antialiased=True,levels=[.5])\n",
    "            \n",
    "        #make title\n",
    "        if surface == 'alpha':\n",
    "            title = u'α'\n",
    "            if initial_pathway == 'QOOH':\n",
    "                title += u'QOOHγ (+ O$_2$)'\n",
    "        elif surface == 'beta':\n",
    "            title = u'β'\n",
    "            if initial_pathway == 'QOOH':\n",
    "                title += u'QOOHα (+ O$_2$)'\n",
    "        elif surface == 'gamma':\n",
    "            title = u'γ'\n",
    "            if initial_pathway == 'QOOH':\n",
    "                title += u'QOOHα (+ O$_2$)'\n",
    "        if initial_pathway == 'alkyl':\n",
    "            title += 'R + O$_2$'\n",
    "        elif initial_pathway == 'peroxy':\n",
    "            title += 'RO$_2$'\n",
    "        ax.set_title(title)\n",
    "        print('########################    '+surface+'    '+initial_pathway)\n",
    "        for rxn_index in np.unique(main_path_matrix):\n",
    "            print('##########    '+reactions[int(rxn_index)].equation)\n",
    "            main_path_df = pd.DataFrame(columns = temperatures, index=pressures, data=main_path_matrix)\n",
    "            main_path_df_bool = main_path_df[main_path_df == rxn_index]\n",
    "            pressures_of_path = main_path_df_bool.dropna(0,'all').index\n",
    "            temps_of_path = main_path_df_bool.dropna(1,'all').columns\n",
    "            print('temp range: ({0}, {1})'.format(min(temps_of_path), max(temps_of_path)))\n",
    "            print('pres range: ({0}, {1})'.format(min(pressures_of_path), max(pressures_of_path)))\n",
    "\n",
    "f.subplots_adjust(right=0.9)\n",
    "cbar_ax = f.add_axes([0.91, .25, 0.06, 0.5])\n",
    "cbar = f.colorbar(contour_output, cax=cbar_ax)\n",
    "cbar_ax.set_axis_off()"
   ]
  },
  {
   "cell_type": "code",
   "execution_count": null,
   "metadata": {},
   "outputs": [],
   "source": [
    "cbar_ax.annotate('product\\nmixture',(.5,.125),xycoords='axes fraction',va='center', ha='center')\n",
    "cbar_ax.annotate('major\\nsecondary\\nproducts',(.5,.375),xycoords='axes fraction',va='center', ha='center')\n",
    "cbar_ax.annotate('minor\\nsecondary\\nproducts',(.5,.625),xycoords='axes fraction',va='center', ha='center')\n",
    "cbar_ax.annotate('nearly\\npure',(.5,.875),xycoords='axes fraction',va='center', ha='center')"
   ]
  },
  {
   "cell_type": "code",
   "execution_count": null,
   "metadata": {},
   "outputs": [],
   "source": [
    "f.savefig(os.path.join(image_dir,'branching_6_plots.svg'),bbox_inches='tight')"
   ]
  },
  {
   "cell_type": "markdown",
   "metadata": {},
   "source": [
    "# determine amount reversing\n",
    "\n",
    "For the pdep reactions, a certain amount goes back to R + O2 which is not included in the Chemkin rates, since it is not a reaction, however it would be useful to know when there is another reaction competing for R radical.\n",
    "\n",
    "To do this, we take the sum of all rates consuming R + O2 and divide it by the high p rate from high-p kinetics"
   ]
  },
  {
   "cell_type": "code",
   "execution_count": null,
   "metadata": {},
   "outputs": [],
   "source": [
    "mechanism_file_high_p = '../data/mech_generation/high_p_merged/chem.cti'\n",
    "solution_high_p = ct.Solution(mechanism_file_high_p)"
   ]
  },
  {
   "cell_type": "code",
   "execution_count": null,
   "metadata": {},
   "outputs": [],
   "source": [
    "mechanism_file = '../data/mech_generation/pdep_merged/chem.cti'\n",
    "solution = ct.Solution(mechanism_file)"
   ]
  },
  {
   "cell_type": "markdown",
   "metadata": {},
   "source": [
    "### all three - linear"
   ]
  },
  {
   "cell_type": "code",
   "execution_count": null,
   "metadata": {},
   "outputs": [],
   "source": [
    "value_gradient = np.linspace(0,1,21)"
   ]
  },
  {
   "cell_type": "code",
   "execution_count": null,
   "metadata": {},
   "outputs": [],
   "source": [
    "f, axes = plt.subplots(1,3,sharex=True,sharey=True,figsize = [12,4],gridspec_kw={'wspace':.12,'hspace':0.2})"
   ]
  },
  {
   "cell_type": "code",
   "execution_count": null,
   "metadata": {},
   "outputs": [],
   "source": [
    "for s_index, surface in enumerate(['alpha', 'beta', 'gamma']):\n",
    "    if surface == 'alpha':\n",
    "        initial_reactants = set(('O2','aR'))\n",
    "    elif surface == 'beta':\n",
    "        initial_reactants = set(('O2','bR'))\n",
    "    elif surface == 'gamma':\n",
    "        initial_reactants = set(('O2', 'gR'))\n",
    "    \n",
    "    fraction_reacts = pd.DataFrame(index=pressures,\n",
    "                             columns=temperatures,\n",
    "                             data=np.empty((len(temperatures),len(pressures))))\n",
    "\n",
    "    for temperature in temperatures:\n",
    "        for pressure in pressures:\n",
    "            solution.TP = temperature, pressure\n",
    "            solution_high_p.TP = temperature, pressure\n",
    "            output = get_reaction_branching(solution, initial_reactants)\n",
    "            output_high_p= get_reaction_branching(solution_high_p, initial_reactants)\n",
    "            fraction_reacts.loc[pressure,temperature] = (output.sum() / output_high_p).values[0]\n",
    "    \n",
    "    ax = axes[s_index]\n",
    "    ax.set_xticks(np.linspace(0,len(temperatures)-1,n_xticks))\n",
    "    ax.set_yticks(np.linspace(0,len(pressures)-1,n_yticks))\n",
    "    ax.set_xticklabels([int(label) for label in np.linspace(temperatures.min(),temperatures.max(),n_xticks)])\n",
    "    ax.set_yticklabels(['10$^{{{0}}}$'.format(int(np.log10(label))) for label in np.logspace(np.log10(pressures.min()),np.log10(pressures.max()),n_yticks)])\n",
    "    ax.set_xlabel('temperature (K)')\n",
    "    if s_index == 0:\n",
    "        ax.set_ylabel('pressure (Pa)')\n",
    "    contour_output = ax.contourf(fraction_reacts,cmap=transparency_color_map,antialiased=True,alpha=1, levels=value_gradient)\n",
    "    add_lines_to_contourf(contour_obj=contour_output)\n",
    "    #make title\n",
    "    if surface == 'alpha':\n",
    "        title = u'α'\n",
    "    elif surface == 'beta':\n",
    "        title = u'β'\n",
    "    elif surface == 'gamma':\n",
    "        title = u'γ'\n",
    "    title += 'R + O$_2$'\n",
    "    ax.set_title(title)\n",
    "\n",
    "cbar_ax = f.add_axes([0.925, 0.15, 0.02, 0.7])\n",
    "cbar = f.colorbar(contour_output, cax=cbar_ax)\n",
    "cbar_ax.set_ylabel('fraction of excited RO$_2$ not reforming R + O$_2$')\n",
    "#cbar.set_ticks([0,-.5,-1,-1.5,-2,])\n"
   ]
  },
  {
   "cell_type": "code",
   "execution_count": null,
   "metadata": {},
   "outputs": [],
   "source": [
    "f.savefig(os.path.join(image_dir,'non_reaction_fraction.svg'),bbox_inches='tight')"
   ]
  },
  {
   "cell_type": "code",
   "execution_count": null,
   "metadata": {},
   "outputs": [],
   "source": [
    "f.savefig(os.path.join(image_dir,'non_reaction_fraction.pdf'),bbox_inches='tight')"
   ]
  }
 ],
 "metadata": {
  "kernelspec": {
   "display_name": "Python 3",
   "language": "python",
   "name": "python3"
  },
  "language_info": {
   "codemirror_mode": {
    "name": "ipython",
    "version": 3
   },
   "file_extension": ".py",
   "mimetype": "text/x-python",
   "name": "python",
   "nbconvert_exporter": "python",
   "pygments_lexer": "ipython3",
   "version": "3.7.4"
  }
 },
 "nbformat": 4,
 "nbformat_minor": 4
}
