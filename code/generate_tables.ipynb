{
 "cells": [
  {
   "cell_type": "markdown",
   "metadata": {},
   "source": [
    "This notebook generates the LaTeX code for the two tables in the manuscript"
   ]
  },
  {
   "cell_type": "code",
   "execution_count": null,
   "metadata": {},
   "outputs": [],
   "source": [
    "import pandas as pd"
   ]
  },
  {
   "cell_type": "code",
   "execution_count": null,
   "metadata": {},
   "outputs": [],
   "source": [
    "species_conversion_df = pd.read_csv('../data/species_name_comparison.csv', encoding = 'utf-8')\n",
    "reaction_conversion_df = pd.read_csv('../data/reaction_info.csv', encoding = 'utf-8')\n",
    "cantera2paper = dict(zip(species_conversion_df['chemkin_name'], species_conversion_df['paper_name']))\n",
    "cantera2paper.update(dict(zip(reaction_conversion_df['ascii_name'], reaction_conversion_df['unicode_name'])))"
   ]
  },
  {
   "cell_type": "code",
   "execution_count": null,
   "metadata": {},
   "outputs": [],
   "source": [
    "energy_vals = pd.read_csv('../data/lit_energy_comparisons.csv')\n",
    "energy_vals.Label = [cantera2paper[l] for l in energy_vals.Label.values]"
   ]
  },
  {
   "cell_type": "code",
   "execution_count": null,
   "metadata": {},
   "outputs": [],
   "source": [
    "beta_table = energy_vals[[u'Label', u'forward rxn barriers (kcal/mol)', u'sun rxn barriers (kcal/mol)', u'lizardo rxn barriers (kcal/mol)']]"
   ]
  },
  {
   "cell_type": "code",
   "execution_count": null,
   "metadata": {},
   "outputs": [],
   "source": [
    "beta_table.columns = ['reaction', 'this work', r'\\citeauthor{sun_thermochemical_2007}', r'\\citeauthor{lizardo-huerta_intramolecular_2016}']"
   ]
  },
  {
   "cell_type": "code",
   "execution_count": null,
   "metadata": {},
   "outputs": [],
   "source": [
    "beta_table.iloc[:,[1,2,3]]*=4.184"
   ]
  },
  {
   "cell_type": "code",
   "execution_count": null,
   "metadata": {},
   "outputs": [],
   "source": [
    "print((beta_table).dropna().to_latex(float_format=\"{:0.0f}\".format, escape=False, index=False).replace(u'γ',r'\\textgamma ').replace(u'α',r'\\textalpha ').replace(u'β',r'\\textbeta '))"
   ]
  },
  {
   "cell_type": "code",
   "execution_count": null,
   "metadata": {},
   "outputs": [],
   "source": [
    "gamma_table = energy_vals[[u'Label', u'forward rxn barriers (kcal/mol)', u'welz rxn barriers (kcal/mol)']]"
   ]
  },
  {
   "cell_type": "code",
   "execution_count": null,
   "metadata": {},
   "outputs": [],
   "source": [
    "gamma_table.columns = ['reaction', 'this work', r'\\citeauthor{welz_unconventional_2013}']"
   ]
  },
  {
   "cell_type": "code",
   "execution_count": null,
   "metadata": {},
   "outputs": [],
   "source": [
    "gamma_table.iloc[:,[1,2]]=gamma_table.iloc[:,[1,2]] * 4.184"
   ]
  },
  {
   "cell_type": "code",
   "execution_count": null,
   "metadata": {},
   "outputs": [],
   "source": [
    "print(gamma_table.dropna().to_latex(float_format=\"{:0.0f}\".format, escape=False, index=False).replace(u'γ',r'\\textgamma ').replace(u'α',r'\\textalpha ').replace(u'β',r'\\textbeta '))"
   ]
  }
 ],
 "metadata": {
  "kernelspec": {
   "display_name": "Python 3",
   "language": "python",
   "name": "python3"
  },
  "language_info": {
   "codemirror_mode": {
    "name": "ipython",
    "version": 3
   },
   "file_extension": ".py",
   "mimetype": "text/x-python",
   "name": "python",
   "nbconvert_exporter": "python",
   "pygments_lexer": "ipython3",
   "version": "3.6.8"
  }
 },
 "nbformat": 4,
 "nbformat_minor": 2
}
