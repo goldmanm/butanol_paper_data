{
 "cells": [
  {
   "cell_type": "markdown",
   "metadata": {},
   "source": [
    "This notebook creates the branching plots shown in the paper for all three networks.\n",
    "\n",
    "This will require files not originally available in the zenodo repository, so rerunning of Arkane is necessary. By default, Arkane does not output these large files. A version with the modified output can be found at: github.com/goldmanm/RMG-Py/tree/butanol_py3_changes, which is compatible with the RMG-Database version with the commit hash d626e2bd535faf1cb4c3c1618cfff8ad1bbe3dd9"
   ]
  },
  {
   "cell_type": "code",
   "execution_count": null,
   "metadata": {},
   "outputs": [],
   "source": [
    "import pandas as pd\n",
    "import numpy as np\n",
    "import seaborn as sns\n",
    "from matplotlib import pyplot as plt\n",
    "from matplotlib.colors import ListedColormap\n",
    "from matplotlib import cm\n",
    "import matplotlib\n",
    "import os\n",
    "%matplotlib inline\n",
    "\n",
    "from rmgpy.constants import R"
   ]
  },
  {
   "cell_type": "code",
   "execution_count": null,
   "metadata": {},
   "outputs": [],
   "source": [
    "image_dir = '../results/'"
   ]
  },
  {
   "cell_type": "code",
   "execution_count": null,
   "metadata": {},
   "outputs": [],
   "source": [
    "def add_lines_to_contourf(contour_obj):\n",
    "    for col in  contour_obj.collections:\n",
    "        col.set_linewidth(1.5)\n",
    "        col.set_edgecolor(col.get_facecolor())"
   ]
  },
  {
   "cell_type": "code",
   "execution_count": null,
   "metadata": {},
   "outputs": [],
   "source": [
    "def get_indexes(desired_points, name_list, use_reverse = False):\n",
    "    desired_indexes = []\n",
    "    labels = []\n",
    "    for point, is_reverse in desired_points:\n",
    "        try:\n",
    "            index = name_list.index(point)\n",
    "        except ValueError:\n",
    "            raise ValueError(\"'{0} is not a valid term. Options are:{1}'\".format(point, name_list))\n",
    "        if not use_reverse and not is_reverse:\n",
    "            desired_indexes.append(index)\n",
    "            labels.append(point)\n",
    "    return desired_indexes, labels"
   ]
  },
  {
   "cell_type": "code",
   "execution_count": null,
   "metadata": {},
   "outputs": [],
   "source": [
    "def get_indexes_rxn_rates(desired_points, reaction_names):\n",
    "    num_reactions = int(rates.shape[0]/2)\n",
    "    reaction_names = stable_point_names[-num_reactions:]\n",
    "    desired_indexes = []\n",
    "    labels = []\n",
    "    for point, is_reverse in desired_points:\n",
    "        try:\n",
    "            index = reaction_names.index(point) * 2 + is_reverse\n",
    "        except ValueError:\n",
    "            raise ValueError(\"'{0} is not a valid term. Options are:{1}'\".format(point, reaction_names))\n",
    "        desired_indexes.append(index)\n",
    "        labels.append(point)\n",
    "    return desired_indexes, labels"
   ]
  },
  {
   "cell_type": "code",
   "execution_count": null,
   "metadata": {},
   "outputs": [],
   "source": [
    "def plot_microcanonical_rates(plot_paths, rates, vmin=0, vmax=11,xlabel='Microcanonical rates'):\n",
    "    spn_dict = get_paper_stable_point_names_dict(stable_point_names)\n",
    "    num_reactions = int(rates.shape[0]/2)\n",
    "    reaction_names = stable_point_names[-num_reactions:]\n",
    "    if plot_paths == 'all':\n",
    "        f, ax = plt.subplots(figsize=(10,5))\n",
    "        indexes = range(2*num_reactions)\n",
    "        labels = []\n",
    "        for name in reaction_names:\n",
    "            #labels.append(unicode(spn_dict[name] + ' forward'))\n",
    "            labels.append(pn_dict[name] + ' forward')\n",
    "            labels.append(u'                       reverse')\n",
    "        tick_rotation = 90\n",
    "        tick_font = 10\n",
    "\n",
    "    else:\n",
    "        f, ax = plt.subplots(figsize=(6,5))\n",
    "        indexes, labels = get_indexes_rxn_rates(plot_paths, reaction_names)\n",
    "        tick_rotation = 30\n",
    "        tick_font = 15\n",
    "        #labels = [unicode(cantera2paper[label]) for label in labels]\n",
    "        labels = [cantera2paper[label] for label in labels]\n",
    "    # replace values with zero\n",
    "    ax.xaxis.tick_top()\n",
    "\n",
    "    data_values = np.log10(rates[indexes,:,0].T)\n",
    "    data_values[data_values == -np.inf] = -100\n",
    "    hmap = sns.heatmap(data_values, ax=ax,vmin=vmin,vmax=vmax)\n",
    "    add_lines_to_contourf(hmap)\n",
    "    ax.set_xticklabels(labels, rotation=tick_rotation,ha='left', size=tick_font)\n",
    "    cbar = f.axes[1]\n",
    "    cbar.set_ylabel(r'$\\log_{10}(k\\ ($in s, cm$^3$, molec$))$',size = 15)\n",
    "    #ax.set_xlabel(unicode(xlabel), size = 15)\n",
    "    ax.set_xlabel(xlabel, size = 15)\n",
    "    ax.xaxis.set_label_position('top')\n",
    "    n_energy = len(Elist)\n",
    "    ax.set_yticks([0,n_energy/4,n_energy/2,3*n_energy/4,n_energy])\n",
    "    ax.set_yticklabels([int(Elist[int(e)]/1000) for e in [0,n_energy/4,n_energy/2,3*n_energy/4,n_energy-1]])\n",
    "    ax.set_ylabel('Energy (kJ/mol)',size=15)\n",
    "    ax.invert_yaxis()\n",
    "    return f, ax"
   ]
  },
  {
   "cell_type": "code",
   "execution_count": null,
   "metadata": {},
   "outputs": [],
   "source": [
    "def plot_microcanonical_rates_graph(plot_paths, rates, vmin=0, vmax=11,title='Microcanonical rates', style_list =None, line_color = None, autoannotate=True, ax =None):\n",
    "    spn_dict = get_paper_stable_point_names_dict(stable_point_names)\n",
    "    num_reactions = int(rates.shape[0]/2)\n",
    "    reaction_names = stable_point_names[-num_reactions:]\n",
    "    if ax is None:\n",
    "        f, ax = plt.subplots()\n",
    "    indexes, labels = get_indexes_rxn_rates(plot_paths, reaction_names)\n",
    "    #labels = [unicode(cantera2paper[label]) for label in labels]\n",
    "    labels = [cantera2paper[label] for label in labels]\n",
    "\n",
    "    if style_list is None:\n",
    "        style_list = ['-','--',':','-.',(0,(5,5)),(0,(2,5)), (0,(3,1,1,1,1,1)), (0,(3,10,1,10))]\n",
    "    if line_color is None: \n",
    "        line_color = sns.color_palette('colorblind')\n",
    "    #data_values = rates[indexes,:,0].T\n",
    "    #data_values[data_values == -np.inf] = -100\n",
    "    #hmap = sns.heatmap(data_values, ax=ax,vmin=vmin,vmax=vmax)\n",
    "    ax.set_yscale('log')\n",
    "    for plot_index, rate_index in enumerate(indexes):\n",
    "        ax.plot(Elist/1000, rates[rate_index,:,0], linestyle=style_list[plot_index], c=line_color[plot_index])\n",
    "        if autoannotate:\n",
    "            #ax.annotate(labels[plot_index],(Elist.max()*1.01, rates[rate_index,:,0].max()), xycoords='data')\n",
    "            ax.annotate('  '+labels[plot_index],(Elist.max()/1000, rates[rate_index,:,0].max()), xycoords='data', va='center')\n",
    "            print(labels[plot_index])\n",
    "    ax.set_ylim(10**vmin,10**vmax)\n",
    "    xmin = Elist[np.all(rates[indexes,:,0] < 10**vmin, 0)][-1]/1000\n",
    "    ax.set_xlim(xmin,Elist.max()/1000)\n",
    "    ax.set_xlabel('Energy (kJ/mol)')\n",
    "    ax.set_ylabel('microcanonical rates (s$^{-1}$)')\n",
    "    ax.set_title(title)\n",
    "    return ax"
   ]
  },
  {
   "cell_type": "code",
   "execution_count": null,
   "metadata": {},
   "outputs": [],
   "source": [
    "def plot_density_of_states(plot_paths, densStates, vmin=5, vmax=30,xlabel='Density of States'):\n",
    "    if plot_paths == 'all':\n",
    "        f, ax = plt.subplots(figsize=(10,5))\n",
    "        indexes = range(densStates.shape[0])\n",
    "        labels = stable_point_names\n",
    "        tick_rotation = 90\n",
    "        tick_font = 10\n",
    "    else:\n",
    "        indexes, labels = get_indexes(plot_paths, stable_point_names,)\n",
    "        f, ax = plt.subplots(figsize=(6,5))\n",
    "        tick_rotation = 30\n",
    "        tick_font = 15\n",
    "    logdensStates = np.log10(densStates[:,:,0].T)\n",
    "    # replace values with zero\n",
    "    logdensStates[np.isinf(logdensStates)] = 0\n",
    "    logdensStates[np.isnan(logdensStates)] = 0\n",
    "    ax.xaxis.tick_top()\n",
    "    spn_dict = get_paper_stable_point_names_dict(stable_point_names)\n",
    "    #x_tick_labels = [unicode(spn_dict[label]) for label in labels]\n",
    "    x_tick_labels = [spn_dict[label] for label in labels]\n",
    "    hmap = sns.heatmap(logdensStates[:,indexes], ax=ax,vmin=vmin,vmax=vmax)\n",
    "    add_lines_to_contourf(hmap)\n",
    "    ax.set_xticklabels(x_tick_labels, rotation=tick_rotation,ha='left', size=tick_font)\n",
    "    cbar = f.axes[1]\n",
    "    cbar.set_ylabel(r'$\\log_{10}(\\rho\\ (J^{-1}))$',size = 15)\n",
    "    cbar.set_yticks([5,10,15,20,25])\n",
    "    ax.set_xlabel(xlabel, size = 15)\n",
    "    ax.xaxis.set_label_position('top')\n",
    "    n_energy = len(Elist)\n",
    "    ax.set_yticks([0,n_energy/4,n_energy/2,3*n_energy/4,n_energy])\n",
    "    ax.set_yticklabels([int(Elist[int(e)]/1000) for e in [0,n_energy/4,n_energy/2,3*n_energy/4,n_energy-1]])\n",
    "    ax.set_ylabel('Energy (kJ/mol)', size = 15)\n",
    "    ax.invert_yaxis()\n",
    "    return f, ax"
   ]
  },
  {
   "cell_type": "code",
   "execution_count": null,
   "metadata": {},
   "outputs": [],
   "source": [
    "species_conversion_df = pd.read_csv('../data/species_name_comparison.csv', encoding = 'utf-8')\n",
    "reaction_conversion_df = pd.read_csv('../data/reaction_info.csv', encoding = 'utf-8')\n",
    "cantera2paper = dict(zip(species_conversion_df['chemkin_name'], species_conversion_df['paper_name']))\n",
    "cantera2paper.update(dict(zip(reaction_conversion_df['ascii_name'], reaction_conversion_df['unicode_name'])))"
   ]
  },
  {
   "cell_type": "code",
   "execution_count": null,
   "metadata": {},
   "outputs": [],
   "source": [
    "def get_paper_stable_point_names(stable_point_names):\n",
    "    paper_points = []\n",
    "    for point in stable_point_names:\n",
    "        # point = point.decode(\"utf-8\")\n",
    "        items = point.split(' + ')\n",
    "        paper_names = [cantera2paper[item] for item in items]\n",
    "        paper_points.append(' + '.join(paper_names))\n",
    "    return paper_points\n",
    "\n",
    "def get_paper_stable_point_names_dict(stable_point_names):\n",
    "    return dict(zip(stable_point_names, get_paper_stable_point_names(stable_point_names)))"
   ]
  },
  {
   "cell_type": "markdown",
   "metadata": {},
   "source": [
    "# alpha"
   ]
  },
  {
   "cell_type": "code",
   "execution_count": null,
   "metadata": {},
   "outputs": [],
   "source": [
    "loaded_file = np.load('../data/mech_generation/alpha/cantherm_output/network_data/C4H9O3_798.5045778884731K_143521.90540470043Pa.npz')"
   ]
  },
  {
   "cell_type": "code",
   "execution_count": null,
   "metadata": {},
   "outputs": [],
   "source": [
    "plot_paths = [('aAdductFromRO2',1), ('aAdductSplit', 1)]\n",
    "ro2_paths = [('aAdductFromRO2', 0), ('aAlkoxyIsom',0), ('a-gQOOHIsom', 0), ('a-bQOOHIsom',0), ('aHO2elimFromRO2',0), ('aRO2Form',1)]"
   ]
  },
  {
   "cell_type": "code",
   "execution_count": null,
   "metadata": {},
   "outputs": [],
   "source": [
    "stable_point_names = list(loaded_file['arr_0'])\n",
    "Elist = loaded_file['arr_1']\n",
    "rotations = loaded_file['arr_2']\n",
    "densStates = loaded_file['arr_3']\n",
    "population_models = loaded_file['arr_4']\n",
    "eqRatios = loaded_file['arr_5'] / sum(loaded_file['arr_5'])\n",
    "collFreq = loaded_file['arr_6']\n",
    "rates = loaded_file['arr_7']\n",
    "Mcoll = loaded_file['arr_8']\n",
    "K = loaded_file['arr_9']"
   ]
  },
  {
   "cell_type": "code",
   "execution_count": null,
   "metadata": {},
   "outputs": [],
   "source": [
    "energy_reactant = -124248 #J/mol\n",
    "Elist -= energy_reactant"
   ]
  },
  {
   "cell_type": "code",
   "execution_count": null,
   "metadata": {},
   "outputs": [],
   "source": [
    "f, axes = plt.subplots(2,sharex=False,sharey=False,figsize = [6,9.2],gridspec_kw={'wspace':.0,'hspace':0.3})"
   ]
  },
  {
   "cell_type": "code",
   "execution_count": null,
   "metadata": {},
   "outputs": [],
   "source": [
    "ax = axes[0]\n",
    "ax = plot_microcanonical_rates_graph(ro2_paths, rates, vmax=13, vmin=-2,title=u'a) Rates from βRO2', autoannotate=False, ax=ax)\n",
    "ax.annotate(u'αAdductFromRO2', (23-energy_reactant/1000,5e11),rotation=4, va='center')\n",
    "ax.annotate(u'αR + O2', (40-energy_reactant/1000,0.5e10),rotation=20, va='center',ha='right')\n",
    "ax.annotate(u'α-γQOOHIsom', (-160-energy_reactant/1000,3e5),rotation=30, va='center',ha='left')\n",
    "ax.annotate(u'αAlkoxyIsom', (20,.5e10),rotation=18, va='center',ha='left')\n",
    "ax.annotate(u'α-βQOOHIsom', (-115-energy_reactant/1000,1e4),(-90-energy_reactant/1000,1e2),rotation=0, va='center',ha='left',arrowprops={'linewidth':1,'arrowstyle':'-'})\n",
    "ax.annotate(u'αHO2elimFromRO2', (-130-energy_reactant/1000,1e2),(-100-energy_reactant/1000,1e0),rotation=0, va='center',ha='left',arrowprops={'linewidth':1,'arrowstyle':'-'})\n",
    "#ax.set_xticklabels('')\n",
    "#ax.set_xlabel('')\n",
    "\n",
    "ax = axes[1]\n",
    "ax = plot_microcanonical_rates_graph(plot_paths, rates, vmax=16, vmin=2,title=u'b) Rates from αAdduct',  autoannotate=False, ax=ax)\n",
    "ax.annotate(u'αAdductToRO2', (0-energy_reactant/1000,.5e15),rotation=3, va='center', ha='center')\n",
    "ax.annotate(u'αAdductSplit', (0-energy_reactant/1000,5e10),rotation=3, va='center',ha='center')\n",
    "\n",
    "axes[1].set_xlim(axes[0].set_xlim())"
   ]
  },
  {
   "cell_type": "code",
   "execution_count": null,
   "metadata": {},
   "outputs": [],
   "source": [
    "plot_paths"
   ]
  },
  {
   "cell_type": "code",
   "execution_count": null,
   "metadata": {},
   "outputs": [],
   "source": [
    "f.savefig(os.path.join(image_dir,'microcanonical_rates_from_alpha_multifig.pdf'), bbox_inches='tight')\n",
    "f.savefig(os.path.join(image_dir,'microcanonical_rates_from_alpha_multifig.svg'), bbox_inches='tight')"
   ]
  },
  {
   "cell_type": "markdown",
   "metadata": {},
   "source": [
    "# beta"
   ]
  },
  {
   "cell_type": "code",
   "execution_count": null,
   "metadata": {},
   "outputs": [],
   "source": [
    "loaded_file = np.load('../data/mech_generation/beta/cantherm_output/network_data/C4H9O3_798.5045778884731K_143521.90540470043Pa.npz')\n",
    "ro2_paths = [('bAlkoxyIsom',0), ('b-aQOOHIsom',0), ('b-gHO2elimFromRO2',0),('b-aHO2elimFromRO2',0), ('b-gQOOHIsom',0), ('bRO2Form',1)]\n",
    "alkoxy_paths = [('bDoublebscission',0), ('bAlkoxyIsom', 1)]\n",
    "qooh_paths = [('bEpoxyFroma',0),('bHO2elimFroma',0),('bH2OForm',0),('b-aQOOHIsom',1)]"
   ]
  },
  {
   "cell_type": "code",
   "execution_count": null,
   "metadata": {},
   "outputs": [],
   "source": [
    "stable_point_names = list(loaded_file['arr_0'])\n",
    "Elist = loaded_file['arr_1']\n",
    "rotations = loaded_file['arr_2']\n",
    "densStates = loaded_file['arr_3']\n",
    "population_models = loaded_file['arr_4']\n",
    "eqRatios = loaded_file['arr_5'] / sum(loaded_file['arr_5'])\n",
    "collFreq = loaded_file['arr_6']\n",
    "rates = loaded_file['arr_7']\n",
    "Mcoll = loaded_file['arr_8']\n",
    "K = loaded_file['arr_9']"
   ]
  },
  {
   "cell_type": "code",
   "execution_count": null,
   "metadata": {},
   "outputs": [],
   "source": [
    "energy_reactant = -118138 #J/mol\n",
    "Elist -= energy_reactant"
   ]
  },
  {
   "cell_type": "code",
   "execution_count": null,
   "metadata": {},
   "outputs": [],
   "source": [
    "Nrxns = int(rates.shape[0]/2)\n",
    "Nmolec = len(stable_point_names) - Nrxns\n",
    "Nisom = Mcoll.shape[0]\n",
    "paper_names = get_paper_stable_point_names(stable_point_names)\n",
    "paper_names_molec = paper_names[:Nmolec]\n",
    "paper_names_isom_react = paper_names[:Nisom+1]\n",
    "reaction_names = stable_point_names[-Nrxns:]"
   ]
  },
  {
   "cell_type": "code",
   "execution_count": null,
   "metadata": {},
   "outputs": [],
   "source": [
    "f, axes = plt.subplots(3,1,sharex=False,sharey=False,figsize = [6,14.4],gridspec_kw={'wspace':.0,'hspace':0.3})\n",
    "ax = axes[0]\n",
    "ax = plot_microcanonical_rates_graph(ro2_paths, rates, vmax=13, vmin=-2,title=u'a) Rates from βRO2', autoannotate=False,ax=ax)\n",
    "ax.annotate(u'βR + O2', (23-energy_reactant/1000,2.5e11),rotation=12, va='center')\n",
    "ax.annotate(u'βAlkoxyIsom', (-80-energy_reactant/1000,6e6),rotation=21, va='center',ha='right')\n",
    "ax.annotate(u'β-αQOOHIsom', (-180-energy_reactant/1000,1e3),rotation=46, va='center',ha='left')\n",
    "ax.annotate(u'β-γHO2elimFromRO2', (148-energy_reactant/1000,5e9),rotation=9, va='center',ha='right')\n",
    "ax.annotate(u'β-γQOOHIsom', (50-energy_reactant/1000,4e6),rotation=10, va='center',ha='left')\n",
    "ax.annotate(u'β-αHO2elimFromRO2', (-126-energy_reactant/1000,1e2),(-100-energy_reactant/1000,1e0),rotation=0, va='center',ha='left',arrowprops={'linewidth':1,'arrowstyle':'-'})\n",
    "\n",
    "ax = axes[1]\n",
    "ax = plot_microcanonical_rates_graph(alkoxy_paths, rates, vmax=12.5, vmin=6,title=u'b) Rates from βQOOH[O]', autoannotate=False,ax=ax)\n",
    "ax.annotate(u'βDoubleβscission', (5-energy_reactant/1000,5e11),rotation=8, va='center')\n",
    "ax.annotate(u'βRO2Isom', (-100-energy_reactant/1000,3.5e11),rotation=-4, va='center',ha='right')\n",
    "\n",
    "ax=axes[2]\n",
    "ax = plot_microcanonical_rates_graph(qooh_paths, rates, vmax=13, vmin=-2,title=u'c) Rates from βQOOHα',autoannotate=False,ax=ax)\n",
    "ax.annotate(u'βEpoxyFromα', (23-energy_reactant/1000,1e12),rotation=1, va='center')\n",
    "ax.annotate(u'βHO2elimFromα', (135-energy_reactant/1000,3e10),rotation=6, va='center', ha='right')\n",
    "ax.annotate(u'βH2OForm', (-60-energy_reactant/1000,1e9),rotation=10, va='center')\n",
    "ax.annotate(u'βRO2Isom', (23-energy_reactant/1000,1e8),rotation=8, va='center')\n",
    "\n",
    "axes[0].set_xlim(axes[2].get_xlim())\n",
    "axes[1].set_xlim(axes[2].get_xlim())"
   ]
  },
  {
   "cell_type": "code",
   "execution_count": null,
   "metadata": {},
   "outputs": [],
   "source": [
    "f.savefig(os.path.join(image_dir,'microcanonical_rates_from_beta_multifig.pdf'), bbox_inches='tight')\n",
    "f.savefig(os.path.join(image_dir,'microcanonical_rates_from_beta_multifig.svg'), bbox_inches='tight')"
   ]
  },
  {
   "cell_type": "markdown",
   "metadata": {},
   "source": [
    "# gamma"
   ]
  },
  {
   "cell_type": "code",
   "execution_count": null,
   "metadata": {},
   "outputs": [],
   "source": [
    "loaded_file = np.load('../data/mech_generation/gamma/cantherm_output/network_data/C4H9O3_798.5045778884731K_143521.90540470043Pa.npz')\n",
    "ro2_paths = [('g-aQOOHIsom',0), ('gAlkoxyIsom',0), ('g-gQOOHIsom',0), ('g-bQOOHIsom',0), ('gHO2elimFromRO2',0),('gRO2Form',1)]\n",
    "qooh_paths = [('gH2OForm',0), ('g-aQOOHIsom', 1), ('gC4EtherFroma',0), ('gDoublebscissionFroma',0), ('gAldolFroma', 0)]"
   ]
  },
  {
   "cell_type": "code",
   "execution_count": null,
   "metadata": {},
   "outputs": [],
   "source": [
    "stable_point_names = list(loaded_file['arr_0'])\n",
    "Elist = loaded_file['arr_1']\n",
    "rotations = loaded_file['arr_2']\n",
    "densStates = loaded_file['arr_3']\n",
    "population_models = loaded_file['arr_4']\n",
    "eqRatios = loaded_file['arr_5'] / sum(loaded_file['arr_5'])\n",
    "collFreq = loaded_file['arr_6']\n",
    "rates = loaded_file['arr_7']\n",
    "Mcoll = loaded_file['arr_8']\n",
    "K = loaded_file['arr_9']"
   ]
  },
  {
   "cell_type": "code",
   "execution_count": null,
   "metadata": {},
   "outputs": [],
   "source": [
    "energy_reactant = -100709 #J/mol\n",
    "Elist -= energy_reactant"
   ]
  },
  {
   "cell_type": "code",
   "execution_count": null,
   "metadata": {},
   "outputs": [],
   "source": [
    "f, axes = plt.subplots(2,sharex=False,sharey=False,figsize = [6,9.6],gridspec_kw={'wspace':.0,'hspace':0.3})"
   ]
  },
  {
   "cell_type": "code",
   "execution_count": null,
   "metadata": {},
   "outputs": [],
   "source": [
    "ax = axes[0]\n",
    "ax = plot_microcanonical_rates_graph(ro2_paths, rates, vmax=12, vmin=-2,title=u'a) Rates from γRO2',autoannotate=False,ax=ax)\n",
    "ax.annotate(u'γR + O2', (50-energy_reactant/1000,2e10),rotation=10, va='center')\n",
    "ax.annotate(u'γ-αQOOHIsom', (-30-energy_reactant/1000,0.7e7),rotation=20, va='center', ha='right')\n",
    "ax.annotate(u'γAlkoxyIsom', (60-energy_reactant/1000,4e6),rotation=10, va='center')\n",
    "ax.annotate(u'γ-γQOOHIsom', (-100-energy_reactant/1000,6e4),rotation=40, va='center',ha='center')\n",
    "ax.annotate(u'γ-βQOOHIsom', (-120-energy_reactant/1000,1e1),(-70-energy_reactant/1000,1e1),rotation=0, va='center',ha='left',arrowprops={'linewidth':1,'arrowstyle':'-'})\n",
    "ax.annotate(u'γHO2elimFromRO2', (-115-energy_reactant/1000,1e-1),(-70-energy_reactant/1000,1e-1),rotation=0, va='center',ha='left',arrowprops={'linewidth':1,'arrowstyle':'-'})\n",
    "\n",
    "ax = axes[1]\n",
    "ax = plot_microcanonical_rates_graph(qooh_paths, rates, vmax=11, vmin=2,title=u'b) Rates from γQOOHα',autoannotate=False,ax=ax)\n",
    "ax.annotate(u'γH2OForm', (-50-energy_reactant/1000,4e9),rotation=10, va='center')\n",
    "ax.annotate(u'γRO2Isom', (10-energy_reactant/1000,1.1e9),rotation=11, va='center', ha='left')\n",
    "ax.annotate(u'γAldolFroma', (180-energy_reactant/1000,5e8),rotation=10, va='center', ha='right')\n",
    "ax.annotate(u'γC4EtherFromα', (-137-energy_reactant/1000,1e3),(-50-energy_reactant/1000,1e3),rotation=0, va='center',ha='left',arrowprops={'linewidth':1,'arrowstyle':'-'})\n",
    "ax.annotate(u'γDoubleβscissionFromα', (-72-energy_reactant/1000,1e5),(-50-energy_reactant/1000,1e5),rotation=0, va='center',ha='left',arrowprops={'linewidth':1,'arrowstyle':'-'})\n",
    "\n",
    "axes[0].set_xlim(axes[1].get_xlim())"
   ]
  },
  {
   "cell_type": "code",
   "execution_count": null,
   "metadata": {},
   "outputs": [],
   "source": [
    "f.savefig(os.path.join(image_dir,'microcanonical_rates_from_gamma_multifig.pdf'), bbox_inches='tight')\n",
    "f.savefig(os.path.join(image_dir,'microcanonical_rates_from_gamma_multifig.svg'), bbox_inches='tight')"
   ]
  },
  {
   "cell_type": "code",
   "execution_count": null,
   "metadata": {},
   "outputs": [],
   "source": [
    "population_models = population_models[:,:,0]"
   ]
  },
  {
   "cell_type": "code",
   "execution_count": null,
   "metadata": {},
   "outputs": [],
   "source": [
    "population_models *= np.exp(-Elist / R / 302.764236409)\n",
    "population_models[np.isnan(population_models)] = 0"
   ]
  },
  {
   "cell_type": "code",
   "execution_count": null,
   "metadata": {},
   "outputs": [],
   "source": [
    "population_models.sum(1)"
   ]
  },
  {
   "cell_type": "code",
   "execution_count": null,
   "metadata": {},
   "outputs": [],
   "source": [
    "f, ax = plt.subplots(figsize=(10,5))\n",
    "# replace values with zero\n",
    "ax.xaxis.tick_top()\n",
    "\n",
    "sns.heatmap(population_models.T, ax=ax,xticklabels=stable_point_names,vmin=0,vmax=.01,cbar_kws={'label': r'$\\log_{10}(\\rho\\ (J^{-1}))$'})\n",
    "ax.xaxis.set_tick_params(labelrotation=90)\n",
    "ax.set_xlabel('transition states')\n",
    "ax.xaxis.set_label_position('top')\n",
    "n_energy = len(Elist)\n",
    "ax.set_yticks([0,n_energy/4,n_energy/2,3*n_energy/4,n_energy])\n",
    "ax.set_yticklabels([int(Elist[int(e)]/1000) for e in [0,n_energy/4,n_energy/2,3*n_energy/4,n_energy-1]])\n",
    "ax.set_ylabel('Energy (kJ)')\n",
    "ax.invert_yaxis()"
   ]
  },
  {
   "cell_type": "code",
   "execution_count": null,
   "metadata": {},
   "outputs": [],
   "source": [
    "f.savefig(os.path.join(image_dir,'beta_pdep_rates.pdf'), bbox_inches='tight')"
   ]
  }
 ],
 "metadata": {
  "kernelspec": {
   "display_name": "Python 3",
   "language": "python",
   "name": "python3"
  },
  "language_info": {
   "codemirror_mode": {
    "name": "ipython",
    "version": 3
   },
   "file_extension": ".py",
   "mimetype": "text/x-python",
   "name": "python",
   "nbconvert_exporter": "python",
   "pygments_lexer": "ipython3",
   "version": "3.7.4"
  }
 },
 "nbformat": 4,
 "nbformat_minor": 4
}
