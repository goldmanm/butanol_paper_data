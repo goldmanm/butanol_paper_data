{
 "cells": [
  {
   "cell_type": "markdown",
   "metadata": {},
   "source": [
    "This notebook provides the calculation for obtaining a rate expression for the collision limit for forming αAdduct"
   ]
  },
  {
   "cell_type": "code",
   "execution_count": 1,
   "metadata": {},
   "outputs": [],
   "source": [
    "from rmgpy.species import Species\n",
    "from rmgpy.reaction import Reaction\n",
    "from rmgpy.transport import TransportData\n",
    "import numpy as np\n",
    "from rmgpy.kinetics import Arrhenius\n",
    "import matplotlib.pyplot as plt\n",
    "%matplotlib inline"
   ]
  },
  {
   "cell_type": "code",
   "execution_count": 2,
   "metadata": {},
   "outputs": [],
   "source": [
    "transportData = TransportData(sigma = (4.64,'angstroms'), epsilon=(318,'cm^-1'))"
   ]
  },
  {
   "cell_type": "code",
   "execution_count": 3,
   "metadata": {},
   "outputs": [],
   "source": [
    "r1 = Species().from_smiles('O[O]')\n",
    "r2 = Species().from_smiles('O=CC(C)C')\n",
    "r1.transport_data = transportData\n",
    "r2.transport_data = transportData\n",
    "p1 = Species().from_smiles('[O]OC(O)C(C)C')\n",
    "rxn = Reaction(reactants=[r1,r2],products=[p1])"
   ]
  },
  {
   "cell_type": "code",
   "execution_count": 4,
   "metadata": {},
   "outputs": [],
   "source": [
    "temps = np.linspace(180,1500)\n",
    "rates = np.empty(50)\n",
    "for i, t in enumerate(temps):\n",
    "    rates[i] = rxn.calculate_coll_limit(t)"
   ]
  },
  {
   "cell_type": "code",
   "execution_count": 5,
   "metadata": {},
   "outputs": [],
   "source": [
    "k = Arrhenius()"
   ]
  },
  {
   "cell_type": "code",
   "execution_count": 6,
   "metadata": {},
   "outputs": [
    {
     "data": {
      "text/plain": [
       "Arrhenius(A=(1.05572e+07,'m^3/(mol*s)'), n=0.35126, Ea=(-9.3045e-09,'kJ/mol'), T0=(1,'K'), Tmin=(180,'K'), Tmax=(1500,'K'), comment=\"\"\"Fitted to 50 data points; dA = *|/ 1, dn = +|- 8.14616e-09, dEa = +|- 3.40745e-08 kJ/mol\"\"\")"
      ]
     },
     "execution_count": 6,
     "metadata": {},
     "output_type": "execute_result"
    }
   ],
   "source": [
    "k.fit_to_data(temps,rates,'m^3/(mol*s)')"
   ]
  },
  {
   "cell_type": "code",
   "execution_count": 7,
   "metadata": {},
   "outputs": [],
   "source": [
    "rates_fit = np.empty(50)\n",
    "for i, t in enumerate(temps):\n",
    "    rates_fit[i] = k.get_rate_coefficient(t)"
   ]
  },
  {
   "cell_type": "code",
   "execution_count": null,
   "metadata": {},
   "outputs": [],
   "source": [
    "plt.plot(temps, rates)\n",
    "plt.plot(temps, rates_fit)"
   ]
  }
 ],
 "metadata": {
  "kernelspec": {
   "display_name": "Python 2",
   "language": "python",
   "name": "python2"
  },
  "language_info": {
   "codemirror_mode": {
    "name": "ipython",
    "version": 2
   },
   "file_extension": ".py",
   "mimetype": "text/x-python",
   "name": "python",
   "nbconvert_exporter": "python",
   "pygments_lexer": "ipython2",
   "version": "2.7.17"
  }
 },
 "nbformat": 4,
 "nbformat_minor": 2
}
