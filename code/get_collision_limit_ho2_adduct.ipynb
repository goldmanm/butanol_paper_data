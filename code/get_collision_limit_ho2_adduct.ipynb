{
 "cells": [
  {
   "cell_type": "markdown",
   "metadata": {},
   "source": [
    "This notebook provides the calculation for obtaining a rate expression for the collision limit for forming αAdduct"
   ]
  },
  {
   "cell_type": "code",
   "execution_count": null,
   "metadata": {},
   "outputs": [],
   "source": [
    "from rmgpy.species import Species\n",
    "from rmgpy.reaction import Reaction\n",
    "from rmgpy.transport import TransportData\n",
    "import numpy as np\n",
    "from rmgpy.kinetics import Arrhenius\n",
    "import matplotlib.pyplot as plt\n",
    "%matplotlib inline"
   ]
  },
  {
   "cell_type": "code",
   "execution_count": null,
   "metadata": {},
   "outputs": [],
   "source": [
    "transportData = TransportData(sigma = (4.64,'angstroms'), epsilon=(318,'cm^-1'))"
   ]
  },
  {
   "cell_type": "code",
   "execution_count": null,
   "metadata": {},
   "outputs": [],
   "source": [
    "r1 = Species().from_smiles('O[O]')\n",
    "r2 = Species().from_smiles('O=CC(C)C')\n",
    "r1.transport_data = transportData\n",
    "r2.transport_data = transportData\n",
    "p1 = Species().from_smiles('[O]OC(O)C(C)C')\n",
    "rxn = Reaction(reactants=[r1,r2],products=[p1])"
   ]
  },
  {
   "cell_type": "code",
   "execution_count": null,
   "metadata": {},
   "outputs": [],
   "source": [
    "temps = np.linspace(180,1500)\n",
    "rates = np.empty(50)\n",
    "for i, t in enumerate(temps):\n",
    "    rates[i] = rxn.calculate_coll_limit(t)"
   ]
  },
  {
   "cell_type": "code",
   "execution_count": null,
   "metadata": {},
   "outputs": [],
   "source": [
    "k = Arrhenius()"
   ]
  },
  {
   "cell_type": "code",
   "execution_count": null,
   "metadata": {},
   "outputs": [],
   "source": [
    "k.fit_to_data(temps,rates,'m^3/(mol*s)')"
   ]
  },
  {
   "cell_type": "code",
   "execution_count": null,
   "metadata": {},
   "outputs": [],
   "source": [
    "rates_fit = np.empty(50)\n",
    "for i, t in enumerate(temps):\n",
    "    rates_fit[i] = k.get_rate_coefficient(t)"
   ]
  },
  {
   "cell_type": "code",
   "execution_count": null,
   "metadata": {},
   "outputs": [],
   "source": [
    "plt.plot(temps, rates)\n",
    "plt.plot(temps, rates_fit)"
   ]
  }
 ],
 "metadata": {
  "kernelspec": {
   "display_name": "Python 3",
   "language": "python",
   "name": "python3"
  },
  "language_info": {
   "codemirror_mode": {
    "name": "ipython",
    "version": 3
   },
   "file_extension": ".py",
   "mimetype": "text/x-python",
   "name": "python",
   "nbconvert_exporter": "python",
   "pygments_lexer": "ipython3",
   "version": "3.7.4"
  }
 },
 "nbformat": 4,
 "nbformat_minor": 2
}
